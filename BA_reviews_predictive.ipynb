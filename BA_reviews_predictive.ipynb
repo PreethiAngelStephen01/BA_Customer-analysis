{
  "nbformat": 4,
  "nbformat_minor": 0,
  "metadata": {
    "colab": {
      "provenance": []
    },
    "kernelspec": {
      "name": "python3",
      "display_name": "Python 3"
    },
    "language_info": {
      "name": "python"
    }
  },
  "cells": [
    {
      "cell_type": "code",
      "execution_count": null,
      "metadata": {
        "id": "gtkSjxVjhIUM"
      },
      "outputs": [],
      "source": [
        "import pandas as pd\n",
        "from sklearn.model_selection import train_test_split\n",
        "from sklearn.ensemble import RandomForestClassifier\n",
        "from sklearn.metrics import accuracy_score, precision_score, recall_score, f1_score, roc_auc_score\n",
        "import matplotlib.pyplot as plt\n",
        "import seaborn as sns"
      ]
    },
    {
      "cell_type": "code",
      "source": [
        "# Load the dataset\n",
        "df = pd.read_csv('customer_booking.csv')\n",
        "\n",
        "# Data cleaning\n",
        "df = df.drop_duplicates().dropna()\n",
        "\n",
        "# Feature engineering\n",
        "df['is_round_trip'] = (df['trip_type'] == 'Round Trip').astype(int)\n",
        "df['is_one_way'] = (df['trip_type'] == 'One Way').astype(int)\n",
        "df['is_circle_trip'] = (df['trip_type'] == 'Circle Trip').astype(int)\n",
        "df['is_preferred_seat'] = df['wants_preferred_seat'].astype(int)\n",
        "df['is_in_flight_meals'] = df['wants_in_flight_meals'].astype(int)\n",
        "df['is_extra_baggage'] = df['wants_extra_baggage'].astype(int)"
      ],
      "metadata": {
        "id": "Jw410iW_hPeo"
      },
      "execution_count": null,
      "outputs": []
    },
    {
      "cell_type": "code",
      "source": [],
      "metadata": {
        "id": "unRtHrAVhTGo"
      },
      "execution_count": null,
      "outputs": []
    }
  ]
}